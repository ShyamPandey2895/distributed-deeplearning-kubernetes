{
 "cells": [
  {
   "cell_type": "markdown",
   "metadata": {},
   "source": [
    "# Distributed Key-Value Store\n",
    "\n",
    "KVStore is a place for data sharing. Think of it as a single object shared\n",
    "across different devices (GPUs and computers), where each device can push data in\n",
    "and pull data out.\n",
    "\n",
    "## Initialization\n",
    "\n",
    "Let's consider a simple example: initializing\n",
    "a (`int`, `NDArray`) pair into the store, and then pulling the value out:"
   ]
  },
  {
   "cell_type": "code",
   "execution_count": 1,
   "metadata": {},
   "outputs": [
    {
     "name": "stderr",
     "output_type": "stream",
     "text": [
      "/Users/StefanoFiora/.virtualenvs/deep-learning/lib/python3.6/site-packages/h5py/__init__.py:34: FutureWarning: Conversion of the second argument of issubdtype from `float` to `np.floating` is deprecated. In future, it will be treated as `np.float64 == np.dtype(float).type`.\n",
      "  from ._conv import register_converters as _register_converters\n"
     ]
    },
    {
     "name": "stdout",
     "output_type": "stream",
     "text": [
      "[[2. 2. 2.]\n",
      " [2. 2. 2.]]\n"
     ]
    }
   ],
   "source": [
    "import mxnet as mx\n",
    "\n",
    "kv = mx.kv.create('local') # create a local kv store.\n",
    "shape = (2,3)\n",
    "kv.init(3, mx.nd.ones(shape)*2)\n",
    "a = mx.nd.zeros(shape)\n",
    "kv.pull(3, out = a)\n",
    "print(a.asnumpy())"
   ]
  },
  {
   "cell_type": "markdown",
   "metadata": {},
   "source": [
    "## Push, Aggregate, and Update\n",
    "\n",
    "For any key that has been initialized, you can push a new value with the same shape to the key:"
   ]
  },
  {
   "cell_type": "code",
   "execution_count": 2,
   "metadata": {},
   "outputs": [
    {
     "name": "stdout",
     "output_type": "stream",
     "text": [
      "[[8. 8. 8.]\n",
      " [8. 8. 8.]]\n"
     ]
    }
   ],
   "source": [
    "kv.push(3, mx.nd.ones(shape)*8)\n",
    "kv.pull(3, out = a) # pull out the value\n",
    "print(a.asnumpy())"
   ]
  },
  {
   "cell_type": "markdown",
   "metadata": {},
   "source": [
    "The data for pushing can be stored on any device. Furthermore, you can push multiple\n",
    "values into the same key, where KVStore will first sum all of these\n",
    "values and then push the aggregated value:"
   ]
  },
  {
   "cell_type": "code",
   "execution_count": 3,
   "metadata": {},
   "outputs": [
    {
     "name": "stdout",
     "output_type": "stream",
     "text": [
      "[[4. 4. 4.]\n",
      " [4. 4. 4.]]\n"
     ]
    }
   ],
   "source": [
    "# The numbers used below assume 4 GPUs\n",
    "gpus = mx.test_utils.list_gpus()\n",
    "if len(gpus) > 1:\n",
    "    contexts = [mx.gpu(i) for i in gpus]\n",
    "else:\n",
    "    contexts = [mx.cpu(i) for i in range(4)]\n",
    "b = [mx.nd.ones(shape, ctx) for ctx in contexts]\n",
    "kv.push(3, b)\n",
    "kv.pull(3, out = a)\n",
    "print(a.asnumpy())"
   ]
  },
  {
   "cell_type": "markdown",
   "metadata": {},
   "source": [
    "For each push, KVStore combines the pushed value with the value stored using an\n",
    "`updater`. The default updater is `ASSIGN`. You can replace the default to\n",
    "control how data is merged:"
   ]
  },
  {
   "cell_type": "code",
   "execution_count": 4,
   "metadata": {},
   "outputs": [
    {
     "name": "stdout",
     "output_type": "stream",
     "text": [
      "[[4. 4. 4.]\n",
      " [4. 4. 4.]]\n"
     ]
    }
   ],
   "source": [
    "def update(key, input, stored):\n",
    "    print(\"update on key: %d\" % key)\n",
    "    stored += input * 2\n",
    "kv._set_updater(update)\n",
    "kv.pull(3, out=a)\n",
    "print(a.asnumpy())"
   ]
  },
  {
   "cell_type": "code",
   "execution_count": 5,
   "metadata": {},
   "outputs": [
    {
     "name": "stdout",
     "output_type": "stream",
     "text": [
      "update on key: 3\n",
      "[[6. 6. 6.]\n",
      " [6. 6. 6.]]\n"
     ]
    }
   ],
   "source": [
    "kv.push(3, mx.nd.ones(shape))\n",
    "#\n",
    "kv.pull(3, out=a)\n",
    "print(a.asnumpy())"
   ]
  },
  {
   "cell_type": "markdown",
   "metadata": {},
   "source": [
    "## Pull\n",
    "\n",
    "You've already seen how to pull a single key-value pair. Similarly, to push, you can\n",
    "pull the value onto several devices with a single call:"
   ]
  },
  {
   "cell_type": "code",
   "execution_count": 6,
   "metadata": {},
   "outputs": [
    {
     "name": "stdout",
     "output_type": "stream",
     "text": [
      "[[6. 6. 6.]\n",
      " [6. 6. 6.]]\n"
     ]
    }
   ],
   "source": [
    "b = [mx.nd.ones(shape, ctx) for ctx in contexts]\n",
    "kv.pull(3, out = b)\n",
    "print(b[1].asnumpy())"
   ]
  },
  {
   "cell_type": "markdown",
   "metadata": {},
   "source": [
    "## Handle a List of Key-Value Pairs\n",
    "\n",
    "All operations introduced so far involve a single key. KVStore also provides\n",
    "an interface for a list of key-value pairs. \n",
    "\n",
    "For a single device:"
   ]
  },
  {
   "cell_type": "code",
   "execution_count": 7,
   "metadata": {},
   "outputs": [
    {
     "name": "stdout",
     "output_type": "stream",
     "text": [
      "update on key: 5\n",
      "update on key: 7\n",
      "update on key: 9\n",
      "[[3. 3. 3.]\n",
      " [3. 3. 3.]]\n"
     ]
    }
   ],
   "source": [
    "keys = [5, 7, 9]\n",
    "kv.init(keys, [mx.nd.ones(shape)]*len(keys))\n",
    "kv.push(keys, [mx.nd.ones(shape)]*len(keys))\n",
    "b = [mx.nd.zeros(shape)]*len(keys)\n",
    "kv.pull(keys, out = b)\n",
    "print(b[1].asnumpy())"
   ]
  },
  {
   "cell_type": "markdown",
   "metadata": {},
   "source": [
    "For multiple devices:"
   ]
  },
  {
   "cell_type": "code",
   "execution_count": 8,
   "metadata": {},
   "outputs": [
    {
     "name": "stdout",
     "output_type": "stream",
     "text": [
      "update on key: 5\n",
      "update on key: 7\n",
      "update on key: 9\n",
      "[[11. 11. 11.]\n",
      " [11. 11. 11.]]\n"
     ]
    }
   ],
   "source": [
    "b = [[mx.nd.ones(shape, ctx) for ctx in contexts]] * len(keys)\n",
    "kv.push(keys, b)\n",
    "kv.pull(keys, out = b)\n",
    "print(b[1][1].asnumpy())"
   ]
  },
  {
   "cell_type": "markdown",
   "metadata": {},
   "source": [
    "\n",
    "\n",
    "\n",
    "\n",
    "\n",
    "## Run on Multiple Machines\n",
    "Based on parameter server, the `updater` runs on the server nodes.\n",
    "When the distributed version is ready, we will update this section.\n",
    "\n",
    "\n",
    "<!-- ## How to Choose Between APIs -->\n",
    "\n",
    "<!-- You can mix APIs as much as you like. Here are some guidelines -->\n",
    "<!-- * Use the Symbolic API and a coarse-grained operator to create  an established structure. -->\n",
    "<!-- * Use a fine-grained operator to extend parts of a more flexible symbolic graph. -->\n",
    "<!-- * Do some dynamic NDArray tricks, which are even more flexible, between the calls of forward and backward executors. -->\n",
    "\n",
    "<!-- Different approaches offer you different levels of flexibility and -->\n",
    "<!-- efficiency. Normally, you do not need to be flexible in all parts of the -->\n",
    "<!-- network, so use the parts optimized for speed, and compose it -->\n",
    "<!-- flexibly with a fine-grained operator or a dynamic NDArray. Such a -->\n",
    "<!-- mixture allows you to build the deep learning architecture both efficiently and -->\n",
    "<!-- flexibly as your choice.  -->\n",
    "\n",
    "## Next Steps\n",
    "* [MXNet tutorials index](http://mxnet.io/tutorials/index.html)\n",
    "\n",
    "<!-- INSERT SOURCE DOWNLOAD BUTTONS -->\n"
   ]
  }
 ],
 "metadata": {
  "display_name": "",
  "kernelspec": {
   "display_name": "Python 3",
   "language": "python",
   "name": "python3"
  },
  "language": "python",
  "language_info": {
   "codemirror_mode": {
    "name": "ipython",
    "version": 3
   },
   "file_extension": ".py",
   "mimetype": "text/x-python",
   "name": "python",
   "nbconvert_exporter": "python",
   "pygments_lexer": "ipython3",
   "version": "3.6.4"
  },
  "name": ""
 },
 "nbformat": 4,
 "nbformat_minor": 2
}
